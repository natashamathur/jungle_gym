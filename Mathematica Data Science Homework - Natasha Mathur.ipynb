{
 "cells": [
  {
   "cell_type": "markdown",
   "metadata": {},
   "source": [
    "## Option 2: TED Talks\n",
    " \n",
    "Using a Kaggle dataset listing the characteristics (e.g., number of views, number of comments) for TED\n",
    "talks, summarize the most common occupations of TED speakers. In addition, for the top 100 most\n",
    "popular TED talks, what are the most common themes? Is there a relationship between speaker\n",
    "occupation and popularity?"
   ]
  },
  {
   "cell_type": "markdown",
   "metadata": {},
   "source": [
    "### Imports and Functions"
   ]
  },
  {
   "cell_type": "code",
   "execution_count": 70,
   "metadata": {},
   "outputs": [],
   "source": [
    "import pandas as pd\n",
    "import re\n",
    "import collections\n",
    "import sys\n",
    "from string import punctuation\n",
    "\n",
    "import warnings\n",
    "warnings.filterwarnings('ignore')"
   ]
  },
  {
   "cell_type": "code",
   "execution_count": 44,
   "metadata": {},
   "outputs": [],
   "source": [
    "# https://github.com/natashamathur/natasha/blob/master/common_word.py\n",
    "\n",
    "\n",
    "more_stops = ['tedx', 'most','dont', 'want', 'im', 'not', '—', 'people', 'can', 'us','one', 'like', 'just', 'know', 'think', 'now',\n",
    "             'cant', 'weve', 'shouldve', 'couldve', 'wont', 'isnt', 'your', 'youre', 'tedx']\n",
    "\n",
    "\n",
    "def strip_punctuation(s):\n",
    "    \n",
    "    return ''.join(c for c in s if c not in punctuation)\n",
    "\n",
    "def common_words(x, n=5, more_stops = more_stops, remove_stop_words = True):\n",
    "    '''\n",
    "    Takes in a .txt file or a string and returns the most commonly used word. \n",
    "    '''\n",
    "\n",
    "    if type(x) is not str:\n",
    "        x = open(x, 'r', encoding = 'latin-1')\n",
    "        x = x.read()\n",
    "\n",
    "    x = strip_punctuation(x)\n",
    "    lx = x.lower().split()\n",
    "    \n",
    "    STOP_WORDS = [ \"a\", \"about\", \"above\", \"tedx\", \"ted x\", \"after\", \"again\", \"nan\", \"against\", \"all\", \"am\", \"an\", \"and\", \"any\", \"are\", \"as\", \"at\", \"be\", \"because\", \"been\", \"before\", \"being\", \"below\", \"between\", \"both\", \"but\", \"by\", \"could\", \"did\", \"do\", \"does\", \"doing\", \"down\", \"during\", \"each\", \"few\", \"for\", \"from\", \"further\", \"had\", \"has\", \"have\", \"having\", \"he\", \"he'd\", \"he'll\", \"he's\", \"her\", \"here\", \"here's\", \"hers\", \"herself\", \"him\", \"himself\", \"his\", \"how\", \"how's\", \"i\", \"i'd\", \"i'll\", \"i'm\", \"i've\", \"if\", \"in\", \"into\", \"is\", \"im\", \"it\", \"it's\", \"its\", \"itself\", \"let's\", \"me\", \"more\", \"most\", \"my\", \"myself\", \"nor\", \"of\", \"on\", \"once\", \"only\", \"or\", \"other\", \"ought\", \"our\", \"ours\", \"ourselves\", \"out\", \"over\", \"own\", \"same\", \"she\", \"she'd\", \"she'll\", \"she's\", \"should\", \"so\", \"some\", \"such\", \"than\", \"that\", \"that's\", \"the\", \"their\", \"theirs\", \"them\", \"themselves\", \"then\", \"there\", \"there's\", \"these\", \"they\", \"they'd\", \"they'll\", \"they're\", \"they've\", \"this\", \"those\", \"through\", \"to\", \"too\", \"under\", \"until\", \"up\", \"very\", \"was\", \"we\", \"we'd\", \"we'll\", \"we're\", \"we've\", \"were\", \"what\", \"what's\", \"when\", \"when's\", \"where\", \"where's\", \"which\", \"while\", \"who\", \"who's\", \"whom\", \"why\", \"why's\", \"with\", \"would\", \"you\", \"you'd\", \"you'll\", \"you're\", \"you've\", \"your\", \"yours\", \"yourself\", \"yourselves\",\n",
    "                 ]\n",
    "\n",
    "    \n",
    "    if len(more_stops) > 0:\n",
    "        STOP_WORDS = STOP_WORDS + more_stops\n",
    "        \n",
    "    if remove_stop_words:\n",
    "        lx = [w for w in lx if w not in STOP_WORDS]\n",
    "            \n",
    "        lx = [w for w in lx if len(w) > 3]\n",
    "    \n",
    "    d = {}\n",
    "    for word in lx:\n",
    "        if word not in d.keys():\n",
    "            d[word] = 1\n",
    "        else:\n",
    "            d[word] += 1\n",
    "\n",
    "    most_common = sorted(d, key = d.get, reverse=True)[:n]\n",
    "            \n",
    "    #print(\"The \" + str(n) + \" most common words are: \" + ( \", \".join( e for e in most_common)) + \".\")\n",
    "    #return most_common\n",
    "    return d, most_common\n",
    "\n",
    "STOP_WORDS = ['tedx', \"a\", \"about\", \"above\", \"after\", \"again\", \"nan\", \"against\", \"all\", \"am\", \"an\", \"and\", \"any\", \"are\", \"as\", \"at\", \"be\", \"because\", \"been\", \"before\", \"being\", \"below\", \"between\", \"both\", \"but\", \"by\", \"could\", \"did\", \"do\", \"does\", \"doing\", \"down\", \"during\", \"each\", \"few\", \"for\", \"from\", \"further\", \"had\", \"has\", \"have\", \"having\", \"he\", \"he'd\", \"he'll\", \"he's\", \"her\", \"here\", \"here's\", \"hers\", \"herself\", \"him\", \"himself\", \"his\", \"how\", \"how's\", \"i\", \"i'd\", \"i'll\", \"i'm\", \"i've\", \"if\", \"in\", \"into\", \"is\", \"it\", \"it's\", \"its\", \"itself\", \"let's\", \"me\", \"more\", \"most\", \"my\", \"myself\", \"nor\", \"of\", \"on\", \"once\", \"only\", \"or\", \"other\", \"ought\", \"our\", \"ours\", \"ourselves\", \"out\", \"over\", \"own\", \"same\", \"she\", \"she'd\", \"she'll\", \"she's\", \"should\", \"so\", \"some\", \"such\", \"than\", \"that\", \"that's\", \"the\", \"their\", \"theirs\", \"them\", \"themselves\", \"then\", \"there\", \"there's\", \"these\", \"they\", \"they'd\", \"they'll\", \"they're\", \"they've\", \"this\", \"those\", \"through\", \"to\", \"too\", \"under\", \"until\", \"up\",\"us\", \"very\", \"was\", \"we\", \"we'd\", \"we'll\", \"we're\", \"we've\", \"were\", \"what\", \"what's\", \"when\", \"when's\", \"where\", \"where's\", \"which\", \"while\", \"who\", \"who's\", \"whom\", \"why\", \"why's\", \"with\", \"would\", \"you\", \"you'd\", \"you'll\", \"you're\", \"you've\", \"your\", \"yours\", \"yourself\", \"yourselves\" ]\n",
    "\n",
    "def get_top_words_col(column):\n",
    "    # Isolate the most commonly used terms in each column\n",
    "    text = ''\n",
    "    for i, r in top_ts.iterrows():\n",
    "        text = text + \" \" + r[column] + \" \"\n",
    "        \n",
    "    d, mc = common_words(text,10)\n",
    "    for w in mc:\n",
    "        print(\"{} ({})\".format(w, d[w]))\n",
    "        \n",
    "    return text"
   ]
  },
  {
   "cell_type": "markdown",
   "metadata": {},
   "source": [
    "### Reading and Cleaning Data"
   ]
  },
  {
   "cell_type": "code",
   "execution_count": 4,
   "metadata": {},
   "outputs": [],
   "source": [
    "m = pd.read_csv('ted_main.csv')\n",
    "ts = pd.read_csv('transcripts.csv')"
   ]
  },
  {
   "cell_type": "code",
   "execution_count": 5,
   "metadata": {},
   "outputs": [],
   "source": [
    "def clean_tags(tags):\n",
    "    tag = tags.split(\",\")\n",
    "    bad_chars = \"[]'' \"\n",
    "    tag = [x.strip(\" '\") for x in tag]\n",
    "    tag = [x.strip(\"']'\") for x in tag]\n",
    "    tag = [x.strip(\"['\") for x in tag]\n",
    "    return ' '.join(tag)\n",
    "\n",
    "m.tags = m.tags.apply(clean_tags,)"
   ]
  },
  {
   "cell_type": "code",
   "execution_count": 6,
   "metadata": {},
   "outputs": [],
   "source": [
    "def get_name(url):\n",
    "    return (' '.join(url.split(\"talks/\")[1].split(\"_\")[:2])).title()\n",
    "\n",
    "ts['name'] = ts.url.apply(get_name,)"
   ]
  },
  {
   "cell_type": "code",
   "execution_count": 7,
   "metadata": {},
   "outputs": [
    {
     "data": {
      "text/plain": [
       "(Index(['comments', 'description', 'duration', 'event', 'film_date',\n",
       "        'languages', 'main_speaker', 'name', 'num_speaker', 'published_date',\n",
       "        'ratings', 'related_talks', 'speaker_occupation', 'tags', 'title',\n",
       "        'url', 'views'],\n",
       "       dtype='object'), (2550, 17))"
      ]
     },
     "execution_count": 7,
     "metadata": {},
     "output_type": "execute_result"
    }
   ],
   "source": [
    "m.columns, m.shape"
   ]
  },
  {
   "cell_type": "code",
   "execution_count": 8,
   "metadata": {},
   "outputs": [
    {
     "data": {
      "text/plain": [
       "((2550, 17), (2467, 3))"
      ]
     },
     "execution_count": 8,
     "metadata": {},
     "output_type": "execute_result"
    }
   ],
   "source": [
    "m.shape, ts.shape"
   ]
  },
  {
   "cell_type": "markdown",
   "metadata": {},
   "source": [
    "## Common Occupations"
   ]
  },
  {
   "cell_type": "code",
   "execution_count": 9,
   "metadata": {},
   "outputs": [
    {
     "data": {
      "text/plain": [
       "1    2492\n",
       "2      49\n",
       "3       5\n",
       "4       3\n",
       "5       1\n",
       "Name: num_speaker, dtype: int64"
      ]
     },
     "execution_count": 9,
     "metadata": {},
     "output_type": "execute_result"
    }
   ],
   "source": [
    "m.num_speaker.value_counts()"
   ]
  },
  {
   "cell_type": "code",
   "execution_count": 10,
   "metadata": {},
   "outputs": [
    {
     "data": {
      "text/plain": [
       "Singer/songwriter    3\n",
       "Musician             3\n",
       "Researcher           2\n",
       "Name: speaker_occupation, dtype: int64"
      ]
     },
     "execution_count": 10,
     "metadata": {},
     "output_type": "execute_result"
    }
   ],
   "source": [
    "m[m.num_speaker == 2].speaker_occupation.value_counts().head(3)"
   ]
  },
  {
   "cell_type": "code",
   "execution_count": 11,
   "metadata": {},
   "outputs": [
    {
     "data": {
      "text/plain": [
       "Writer          45\n",
       "Designer        34\n",
       "Artist          34\n",
       "Journalist      33\n",
       "Entrepreneur    31\n",
       "Architect       30\n",
       "Inventor        27\n",
       "Psychologist    26\n",
       "Photographer    25\n",
       "Filmmaker       21\n",
       "Name: speaker_occupation, dtype: int64"
      ]
     },
     "execution_count": 11,
     "metadata": {},
     "output_type": "execute_result"
    }
   ],
   "source": [
    "m.speaker_occupation.value_counts().head(10)"
   ]
  },
  {
   "cell_type": "markdown",
   "metadata": {},
   "source": [
    "As there had been 2550 by September 2017 and no more than 45 people with the same occupation, the self-proclaimed occupations of TED speakers vary greatly. The vast majority of TED talks are given by one person. Using the title provided, the most common occupations are writers, authors, designers, journalists, and entrepreneurs. "
   ]
  },
  {
   "cell_type": "code",
   "execution_count": 12,
   "metadata": {},
   "outputs": [],
   "source": [
    "def split_occ(occ):\n",
    "    occ = re.split('[\\[\\] /]', str(occ))\n",
    "    occ = [x.strip(\",\") for x in occ]\n",
    "    occ = [x.lower() for x in occ]\n",
    "    return occ"
   ]
  },
  {
   "cell_type": "code",
   "execution_count": 13,
   "metadata": {},
   "outputs": [
    {
     "data": {
      "text/plain": [
       "[('activist', 143),\n",
       " ('designer', 113),\n",
       " ('artist', 107),\n",
       " ('writer', 105),\n",
       " ('entrepreneur', 99),\n",
       " ('author', 92),\n",
       " ('scientist', 88),\n",
       " ('researcher', 80),\n",
       " ('expert', 78),\n",
       " ('journalist', 65)]"
      ]
     },
     "execution_count": 13,
     "metadata": {},
     "output_type": "execute_result"
    }
   ],
   "source": [
    "m['split_occ'] = m.speaker_occupation.apply(split_occ,)\n",
    "occs = []\n",
    "for i,r in m.iterrows():\n",
    "    occs.extend(r.split_occ)\n",
    "filler = ['and', 'or','of', 'the', '']\n",
    "occs = [x for x in occs if x not in filler]\n",
    "\n",
    "counter = collections.Counter(occs)\n",
    "counter.most_common(10)"
   ]
  },
  {
   "cell_type": "code",
   "execution_count": 14,
   "metadata": {},
   "outputs": [
    {
     "data": {
      "text/plain": [
       "3     activist for environmental justice\n",
       "24                  playwright, activist\n",
       "39                    musician, activist\n",
       "46                    musician, activist\n",
       "63                              activist\n",
       "Name: speaker_occupation, dtype: object"
      ]
     },
     "execution_count": 14,
     "metadata": {},
     "output_type": "execute_result"
    }
   ],
   "source": [
    "mx = m.dropna(subset=['speaker_occupation'])\n",
    "mx.speaker_occupation = mx.speaker_occupation.str.lower()\n",
    "mx[mx['speaker_occupation'].str.contains(\"activist\")].speaker_occupation.head()"
   ]
  },
  {
   "cell_type": "markdown",
   "metadata": {},
   "source": [
    "Since people's occupations can vary for the same profession, I decided to break down each given occupation into individual words. I removed common words (ex. \"and\", \"of\") and looked at the most common words left. The most common words were activist, designer, artist, enrepreneur, and writer. \n",
    "\n",
    "Many people have multiple descriptors. Speakers who are activists are commonly also writers or entrepreneurs. "
   ]
  },
  {
   "cell_type": "code",
   "execution_count": 15,
   "metadata": {},
   "outputs": [],
   "source": [
    "mx['occ_lim'] = [x for x in mx.split_occ if x not in ['writer', 'entrepreneur']]"
   ]
  },
  {
   "cell_type": "code",
   "execution_count": 16,
   "metadata": {},
   "outputs": [
    {
     "data": {
      "text/plain": [
       "[('designer', 113),\n",
       " ('artist', 107),\n",
       " ('scientist', 88),\n",
       " ('researcher', 80),\n",
       " ('expert', 78),\n",
       " ('journalist', 65),\n",
       " ('inventor', 58),\n",
       " ('educator', 57),\n",
       " ('biologist', 56),\n",
       " ('psychologist', 54)]"
      ]
     },
     "execution_count": 16,
     "metadata": {},
     "output_type": "execute_result"
    }
   ],
   "source": [
    "occs = []\n",
    "for i,r in mx.iterrows():\n",
    "    occs.extend(r.occ_lim)\n",
    "filler = ['and', 'or','of', 'the', '', 'writer', 'entrepreneur', 'activist', 'author', 'social']\n",
    "occs = [x for x in occs if x not in filler]\n",
    "\n",
    "counter = collections.Counter(occs)\n",
    "counter.most_common(10)"
   ]
  },
  {
   "cell_type": "markdown",
   "metadata": {},
   "source": [
    "Therefore, I removed words that can apply to people across multiple industries (activist, entrepreneur, author, social, writer), and found that the most common descriptors included designer, artist, scientist, inventor, and economist. \n",
    "\n",
    "Overall, the most common occupation are activists across different areas, writer/author, or entrepreneur/inventor. Other popular professions include different types of scientists and economists. "
   ]
  },
  {
   "cell_type": "markdown",
   "metadata": {},
   "source": [
    "## Top 100 Most Popular Talks"
   ]
  },
  {
   "cell_type": "code",
   "execution_count": 17,
   "metadata": {},
   "outputs": [
    {
     "data": {
      "text/plain": [
       "Index(['comments', 'description', 'duration', 'event', 'film_date',\n",
       "       'languages', 'main_speaker', 'name', 'num_speaker', 'published_date',\n",
       "       'ratings', 'related_talks', 'speaker_occupation', 'tags', 'title',\n",
       "       'url', 'views', 'split_occ'],\n",
       "      dtype='object')"
      ]
     },
     "execution_count": 17,
     "metadata": {},
     "output_type": "execute_result"
    }
   ],
   "source": [
    "m.columns"
   ]
  },
  {
   "cell_type": "markdown",
   "metadata": {},
   "source": [
    "#### What makes a talk popular? "
   ]
  },
  {
   "cell_type": "code",
   "execution_count": 18,
   "metadata": {},
   "outputs": [
    {
     "data": {
      "text/html": [
       "<div>\n",
       "<style scoped>\n",
       "    .dataframe tbody tr th:only-of-type {\n",
       "        vertical-align: middle;\n",
       "    }\n",
       "\n",
       "    .dataframe tbody tr th {\n",
       "        vertical-align: top;\n",
       "    }\n",
       "\n",
       "    .dataframe thead th {\n",
       "        text-align: right;\n",
       "    }\n",
       "</style>\n",
       "<table border=\"1\" class=\"dataframe\">\n",
       "  <thead>\n",
       "    <tr style=\"text-align: right;\">\n",
       "      <th></th>\n",
       "      <th>comments</th>\n",
       "      <th>description</th>\n",
       "      <th>duration</th>\n",
       "      <th>event</th>\n",
       "      <th>film_date</th>\n",
       "      <th>languages</th>\n",
       "      <th>main_speaker</th>\n",
       "      <th>name</th>\n",
       "      <th>num_speaker</th>\n",
       "      <th>published_date</th>\n",
       "      <th>ratings</th>\n",
       "      <th>related_talks</th>\n",
       "      <th>speaker_occupation</th>\n",
       "      <th>tags</th>\n",
       "      <th>title</th>\n",
       "      <th>url</th>\n",
       "      <th>views</th>\n",
       "      <th>split_occ</th>\n",
       "    </tr>\n",
       "  </thead>\n",
       "  <tbody>\n",
       "    <tr>\n",
       "      <th>96</th>\n",
       "      <td>6404</td>\n",
       "      <td>Richard Dawkins urges all atheists to openly s...</td>\n",
       "      <td>1750</td>\n",
       "      <td>TED2002</td>\n",
       "      <td>1012608000</td>\n",
       "      <td>42</td>\n",
       "      <td>Richard Dawkins</td>\n",
       "      <td>Richard Dawkins: Militant atheism</td>\n",
       "      <td>1</td>\n",
       "      <td>1176689220</td>\n",
       "      <td>[{'id': 3, 'name': 'Courageous', 'count': 3236...</td>\n",
       "      <td>[{'id': 86, 'hero': 'https://pe.tedcdn.com/ima...</td>\n",
       "      <td>Evolutionary biologist</td>\n",
       "      <td>God atheism culture religion science</td>\n",
       "      <td>Militant atheism</td>\n",
       "      <td>https://www.ted.com/talks/richard_dawkins_on_m...</td>\n",
       "      <td>4374792</td>\n",
       "      <td>[evolutionary, biologist]</td>\n",
       "    </tr>\n",
       "    <tr>\n",
       "      <th>0</th>\n",
       "      <td>4553</td>\n",
       "      <td>Sir Ken Robinson makes an entertaining and pro...</td>\n",
       "      <td>1164</td>\n",
       "      <td>TED2006</td>\n",
       "      <td>1140825600</td>\n",
       "      <td>60</td>\n",
       "      <td>Ken Robinson</td>\n",
       "      <td>Ken Robinson: Do schools kill creativity?</td>\n",
       "      <td>1</td>\n",
       "      <td>1151367060</td>\n",
       "      <td>[{'id': 7, 'name': 'Funny', 'count': 19645}, {...</td>\n",
       "      <td>[{'id': 865, 'hero': 'https://pe.tedcdn.com/im...</td>\n",
       "      <td>Author/educator</td>\n",
       "      <td>children creativity culture dance education pa...</td>\n",
       "      <td>Do schools kill creativity?</td>\n",
       "      <td>https://www.ted.com/talks/ken_robinson_says_sc...</td>\n",
       "      <td>47227110</td>\n",
       "      <td>[author, educator]</td>\n",
       "    </tr>\n",
       "    <tr>\n",
       "      <th>644</th>\n",
       "      <td>3356</td>\n",
       "      <td>Questions of good and evil, right and wrong ar...</td>\n",
       "      <td>1386</td>\n",
       "      <td>TED2010</td>\n",
       "      <td>1265846400</td>\n",
       "      <td>39</td>\n",
       "      <td>Sam Harris</td>\n",
       "      <td>Sam Harris: Science can answer moral questions</td>\n",
       "      <td>1</td>\n",
       "      <td>1269249180</td>\n",
       "      <td>[{'id': 8, 'name': 'Informative', 'count': 923...</td>\n",
       "      <td>[{'id': 666, 'hero': 'https://pe.tedcdn.com/im...</td>\n",
       "      <td>Neuroscientist, philosopher</td>\n",
       "      <td>culture evolutionary psychology global issues ...</td>\n",
       "      <td>Science can answer moral questions</td>\n",
       "      <td>https://www.ted.com/talks/sam_harris_science_c...</td>\n",
       "      <td>3433437</td>\n",
       "      <td>[neuroscientist, philosopher]</td>\n",
       "    </tr>\n",
       "    <tr>\n",
       "      <th>201</th>\n",
       "      <td>2877</td>\n",
       "      <td>Jill Bolte Taylor got a research opportunity f...</td>\n",
       "      <td>1099</td>\n",
       "      <td>TED2008</td>\n",
       "      <td>1204070400</td>\n",
       "      <td>49</td>\n",
       "      <td>Jill Bolte Taylor</td>\n",
       "      <td>Jill Bolte Taylor: My stroke of insight</td>\n",
       "      <td>1</td>\n",
       "      <td>1205284200</td>\n",
       "      <td>[{'id': 22, 'name': 'Fascinating', 'count': 14...</td>\n",
       "      <td>[{'id': 184, 'hero': 'https://pe.tedcdn.com/im...</td>\n",
       "      <td>Neuroanatomist</td>\n",
       "      <td>biology brain consciousness global issues illn...</td>\n",
       "      <td>My stroke of insight</td>\n",
       "      <td>https://www.ted.com/talks/jill_bolte_taylor_s_...</td>\n",
       "      <td>21190883</td>\n",
       "      <td>[neuroanatomist]</td>\n",
       "    </tr>\n",
       "    <tr>\n",
       "      <th>1787</th>\n",
       "      <td>2673</td>\n",
       "      <td>Our consciousness is a fundamental aspect of o...</td>\n",
       "      <td>1117</td>\n",
       "      <td>TED2014</td>\n",
       "      <td>1395100800</td>\n",
       "      <td>33</td>\n",
       "      <td>David Chalmers</td>\n",
       "      <td>David Chalmers: How do you explain consciousness?</td>\n",
       "      <td>1</td>\n",
       "      <td>1405350484</td>\n",
       "      <td>[{'id': 25, 'name': 'OK', 'count': 280}, {'id'...</td>\n",
       "      <td>[{'id': 1308, 'hero': 'https://pe.tedcdn.com/i...</td>\n",
       "      <td>Philosopher</td>\n",
       "      <td>brain consciousness neuroscience philosophy</td>\n",
       "      <td>How do you explain consciousness?</td>\n",
       "      <td>https://www.ted.com/talks/david_chalmers_how_d...</td>\n",
       "      <td>2162764</td>\n",
       "      <td>[philosopher]</td>\n",
       "    </tr>\n",
       "  </tbody>\n",
       "</table>\n",
       "</div>"
      ],
      "text/plain": [
       "      comments                                        description  duration  \\\n",
       "96        6404  Richard Dawkins urges all atheists to openly s...      1750   \n",
       "0         4553  Sir Ken Robinson makes an entertaining and pro...      1164   \n",
       "644       3356  Questions of good and evil, right and wrong ar...      1386   \n",
       "201       2877  Jill Bolte Taylor got a research opportunity f...      1099   \n",
       "1787      2673  Our consciousness is a fundamental aspect of o...      1117   \n",
       "\n",
       "        event   film_date  languages       main_speaker  \\\n",
       "96    TED2002  1012608000         42    Richard Dawkins   \n",
       "0     TED2006  1140825600         60       Ken Robinson   \n",
       "644   TED2010  1265846400         39         Sam Harris   \n",
       "201   TED2008  1204070400         49  Jill Bolte Taylor   \n",
       "1787  TED2014  1395100800         33     David Chalmers   \n",
       "\n",
       "                                                   name  num_speaker  \\\n",
       "96                    Richard Dawkins: Militant atheism            1   \n",
       "0             Ken Robinson: Do schools kill creativity?            1   \n",
       "644      Sam Harris: Science can answer moral questions            1   \n",
       "201             Jill Bolte Taylor: My stroke of insight            1   \n",
       "1787  David Chalmers: How do you explain consciousness?            1   \n",
       "\n",
       "      published_date                                            ratings  \\\n",
       "96        1176689220  [{'id': 3, 'name': 'Courageous', 'count': 3236...   \n",
       "0         1151367060  [{'id': 7, 'name': 'Funny', 'count': 19645}, {...   \n",
       "644       1269249180  [{'id': 8, 'name': 'Informative', 'count': 923...   \n",
       "201       1205284200  [{'id': 22, 'name': 'Fascinating', 'count': 14...   \n",
       "1787      1405350484  [{'id': 25, 'name': 'OK', 'count': 280}, {'id'...   \n",
       "\n",
       "                                          related_talks  \\\n",
       "96    [{'id': 86, 'hero': 'https://pe.tedcdn.com/ima...   \n",
       "0     [{'id': 865, 'hero': 'https://pe.tedcdn.com/im...   \n",
       "644   [{'id': 666, 'hero': 'https://pe.tedcdn.com/im...   \n",
       "201   [{'id': 184, 'hero': 'https://pe.tedcdn.com/im...   \n",
       "1787  [{'id': 1308, 'hero': 'https://pe.tedcdn.com/i...   \n",
       "\n",
       "               speaker_occupation  \\\n",
       "96         Evolutionary biologist   \n",
       "0                 Author/educator   \n",
       "644   Neuroscientist, philosopher   \n",
       "201                Neuroanatomist   \n",
       "1787                  Philosopher   \n",
       "\n",
       "                                                   tags  \\\n",
       "96                 God atheism culture religion science   \n",
       "0     children creativity culture dance education pa...   \n",
       "644   culture evolutionary psychology global issues ...   \n",
       "201   biology brain consciousness global issues illn...   \n",
       "1787        brain consciousness neuroscience philosophy   \n",
       "\n",
       "                                   title  \\\n",
       "96                      Militant atheism   \n",
       "0            Do schools kill creativity?   \n",
       "644   Science can answer moral questions   \n",
       "201                 My stroke of insight   \n",
       "1787   How do you explain consciousness?   \n",
       "\n",
       "                                                    url     views  \\\n",
       "96    https://www.ted.com/talks/richard_dawkins_on_m...   4374792   \n",
       "0     https://www.ted.com/talks/ken_robinson_says_sc...  47227110   \n",
       "644   https://www.ted.com/talks/sam_harris_science_c...   3433437   \n",
       "201   https://www.ted.com/talks/jill_bolte_taylor_s_...  21190883   \n",
       "1787  https://www.ted.com/talks/david_chalmers_how_d...   2162764   \n",
       "\n",
       "                          split_occ  \n",
       "96        [evolutionary, biologist]  \n",
       "0                [author, educator]  \n",
       "644   [neuroscientist, philosopher]  \n",
       "201                [neuroanatomist]  \n",
       "1787                  [philosopher]  "
      ]
     },
     "execution_count": 18,
     "metadata": {},
     "output_type": "execute_result"
    }
   ],
   "source": [
    "top_by_comments = m.sort_values(by='comments', ascending=False)\n",
    "top_by_comments.head()"
   ]
  },
  {
   "cell_type": "markdown",
   "metadata": {},
   "source": [
    "It could be the number of comments, but that could also just be a ranking of \"most controversial\". The talk that got the most comments was one by Richard Dawkins, on militant atheism, a topic there will surely be lots of dissenting opinions on. "
   ]
  },
  {
   "cell_type": "code",
   "execution_count": 19,
   "metadata": {},
   "outputs": [
    {
     "data": {
      "text/html": [
       "<div>\n",
       "<style scoped>\n",
       "    .dataframe tbody tr th:only-of-type {\n",
       "        vertical-align: middle;\n",
       "    }\n",
       "\n",
       "    .dataframe tbody tr th {\n",
       "        vertical-align: top;\n",
       "    }\n",
       "\n",
       "    .dataframe thead th {\n",
       "        text-align: right;\n",
       "    }\n",
       "</style>\n",
       "<table border=\"1\" class=\"dataframe\">\n",
       "  <thead>\n",
       "    <tr style=\"text-align: right;\">\n",
       "      <th></th>\n",
       "      <th>languages</th>\n",
       "    </tr>\n",
       "    <tr>\n",
       "      <th>main_speaker</th>\n",
       "      <th></th>\n",
       "    </tr>\n",
       "  </thead>\n",
       "  <tbody>\n",
       "    <tr>\n",
       "      <th>Matt Cutts</th>\n",
       "      <td>72.0</td>\n",
       "    </tr>\n",
       "    <tr>\n",
       "      <th>Derek Sivers</th>\n",
       "      <td>64.0</td>\n",
       "    </tr>\n",
       "    <tr>\n",
       "      <th>Richard St. John</th>\n",
       "      <td>61.0</td>\n",
       "    </tr>\n",
       "    <tr>\n",
       "      <th>Adora Svitak</th>\n",
       "      <td>58.0</td>\n",
       "    </tr>\n",
       "    <tr>\n",
       "      <th>Arianna Huffington</th>\n",
       "      <td>57.0</td>\n",
       "    </tr>\n",
       "  </tbody>\n",
       "</table>\n",
       "</div>"
      ],
      "text/plain": [
       "                    languages\n",
       "main_speaker                 \n",
       "Matt Cutts               72.0\n",
       "Derek Sivers             64.0\n",
       "Richard St. John         61.0\n",
       "Adora Svitak             58.0\n",
       "Arianna Huffington       57.0"
      ]
     },
     "execution_count": 19,
     "metadata": {},
     "output_type": "execute_result"
    }
   ],
   "source": [
    "top_by_lang = m.sort_values(by='languages', ascending=False)\n",
    "top_by_lang.groupby(['main_speaker']).mean()['languages'].to_frame().sort_values(by='languages', ascending=False).head()"
   ]
  },
  {
   "cell_type": "markdown",
   "metadata": {},
   "source": [
    "How many languages a talk is translated into could be a sign of how popular it is. However, some speakers' talks seem to be translated into more languages regardless of how popular the talk was. This could be a function of where the event was held or where the speaker is originally from. "
   ]
  },
  {
   "cell_type": "code",
   "execution_count": 20,
   "metadata": {},
   "outputs": [],
   "source": [
    "top_by_views = m.sort_values(by='comments', ascending=False)\n",
    "top_100 = top_by_views.head(100).reset_index()"
   ]
  },
  {
   "cell_type": "code",
   "execution_count": 21,
   "metadata": {},
   "outputs": [
    {
     "data": {
      "text/html": [
       "<div>\n",
       "<style scoped>\n",
       "    .dataframe tbody tr th:only-of-type {\n",
       "        vertical-align: middle;\n",
       "    }\n",
       "\n",
       "    .dataframe tbody tr th {\n",
       "        vertical-align: top;\n",
       "    }\n",
       "\n",
       "    .dataframe thead th {\n",
       "        text-align: right;\n",
       "    }\n",
       "</style>\n",
       "<table border=\"1\" class=\"dataframe\">\n",
       "  <thead>\n",
       "    <tr style=\"text-align: right;\">\n",
       "      <th></th>\n",
       "      <th>main_speaker</th>\n",
       "      <th>title</th>\n",
       "    </tr>\n",
       "  </thead>\n",
       "  <tbody>\n",
       "    <tr>\n",
       "      <th>0</th>\n",
       "      <td>Richard Dawkins</td>\n",
       "      <td>Militant atheism</td>\n",
       "    </tr>\n",
       "    <tr>\n",
       "      <th>1</th>\n",
       "      <td>Ken Robinson</td>\n",
       "      <td>Do schools kill creativity?</td>\n",
       "    </tr>\n",
       "    <tr>\n",
       "      <th>2</th>\n",
       "      <td>Sam Harris</td>\n",
       "      <td>Science can answer moral questions</td>\n",
       "    </tr>\n",
       "    <tr>\n",
       "      <th>3</th>\n",
       "      <td>Jill Bolte Taylor</td>\n",
       "      <td>My stroke of insight</td>\n",
       "    </tr>\n",
       "    <tr>\n",
       "      <th>4</th>\n",
       "      <td>David Chalmers</td>\n",
       "      <td>How do you explain consciousness?</td>\n",
       "    </tr>\n",
       "  </tbody>\n",
       "</table>\n",
       "</div>"
      ],
      "text/plain": [
       "        main_speaker                               title\n",
       "0    Richard Dawkins                    Militant atheism\n",
       "1       Ken Robinson         Do schools kill creativity?\n",
       "2         Sam Harris  Science can answer moral questions\n",
       "3  Jill Bolte Taylor                My stroke of insight\n",
       "4     David Chalmers   How do you explain consciousness?"
      ]
     },
     "execution_count": 21,
     "metadata": {},
     "output_type": "execute_result"
    }
   ],
   "source": [
    "top_100[['main_speaker','title']].head()"
   ]
  },
  {
   "cell_type": "markdown",
   "metadata": {},
   "source": [
    "Finally, I decided to go with top 100 by number of views. Popular TED talks get attention regardless of where they took place, and the number of comments on a video is a function of the number of views. Some TED talks remained popular - Richard Dawkins' talk is the most popular by either standard. "
   ]
  },
  {
   "cell_type": "markdown",
   "metadata": {},
   "source": [
    "## Common Themes"
   ]
  },
  {
   "cell_type": "markdown",
   "metadata": {},
   "source": [
    "Many of the most popular talks were about psychological or social issues, particularly those that had global applications. \n",
    "\n",
    "I looked for common themes but looking at the most common words used in the tags, the description, and the transcript of each talk. This is the area I would most like to devote additional time and effort to, such as by building a NLTK model to isolate repeated themes. \n",
    "\n",
    "Looking at the tags for each talk, the most common topics are those that touch on worldwide issues or inspirational topics. This is supported by the language used in the talk descriptions. The most common speeches are on understandable issues of general concern, such as cultural issues. Although scientists give many of the talks, heavy scientific issues are left out of this list. "
   ]
  },
  {
   "cell_type": "code",
   "execution_count": 41,
   "metadata": {},
   "outputs": [
    {
     "data": {
      "text/plain": [
       "((100, 19), (100, 12))"
      ]
     },
     "execution_count": 41,
     "metadata": {},
     "output_type": "execute_result"
    }
   ],
   "source": [
    "t100 = top_100.copy()\n",
    "\n",
    "top_ts = t100.merge(ts, how='left', on='url')\n",
    "top_ts = top_ts[['description',  'event', 'film_date',\n",
    "        'main_speaker', 'name_x', 'related_talks', 'speaker_occupation', 'tags', 'title',\n",
    "        'url',  'split_occ', 'transcript']]\n",
    "\n",
    "top_ts = top_ts.drop([84], axis = 0)\n",
    "\n",
    "t100.shape, top_ts.shape"
   ]
  },
  {
   "cell_type": "code",
   "execution_count": 60,
   "metadata": {},
   "outputs": [
    {
     "data": {
      "text/html": [
       "<div>\n",
       "<style scoped>\n",
       "    .dataframe tbody tr th:only-of-type {\n",
       "        vertical-align: middle;\n",
       "    }\n",
       "\n",
       "    .dataframe tbody tr th {\n",
       "        vertical-align: top;\n",
       "    }\n",
       "\n",
       "    .dataframe thead th {\n",
       "        text-align: right;\n",
       "    }\n",
       "</style>\n",
       "<table border=\"1\" class=\"dataframe\">\n",
       "  <thead>\n",
       "    <tr style=\"text-align: right;\">\n",
       "      <th></th>\n",
       "      <th>description</th>\n",
       "      <th>event</th>\n",
       "      <th>film_date</th>\n",
       "      <th>main_speaker</th>\n",
       "      <th>name_x</th>\n",
       "      <th>related_talks</th>\n",
       "      <th>speaker_occupation</th>\n",
       "      <th>tags</th>\n",
       "      <th>title</th>\n",
       "      <th>url</th>\n",
       "      <th>split_occ</th>\n",
       "      <th>transcript</th>\n",
       "      <th>transcript_c</th>\n",
       "    </tr>\n",
       "  </thead>\n",
       "  <tbody>\n",
       "    <tr>\n",
       "      <th>0</th>\n",
       "      <td>Richard Dawkins urges all atheists to openly s...</td>\n",
       "      <td>TED2002</td>\n",
       "      <td>1012608000</td>\n",
       "      <td>Richard Dawkins</td>\n",
       "      <td>Richard Dawkins: Militant atheism</td>\n",
       "      <td>[{'id': 86, 'hero': 'https://pe.tedcdn.com/ima...</td>\n",
       "      <td>Evolutionary biologist</td>\n",
       "      <td>God atheism culture religion science</td>\n",
       "      <td>Militant atheism</td>\n",
       "      <td>https://www.ted.com/talks/richard_dawkins_on_m...</td>\n",
       "      <td>[evolutionary, biologist]</td>\n",
       "      <td>That splendid music, the coming-in music, \"The...</td>\n",
       "      <td>splendid music comingin music elephant march a...</td>\n",
       "    </tr>\n",
       "    <tr>\n",
       "      <th>1</th>\n",
       "      <td>Sir Ken Robinson makes an entertaining and pro...</td>\n",
       "      <td>TED2006</td>\n",
       "      <td>1140825600</td>\n",
       "      <td>Ken Robinson</td>\n",
       "      <td>Ken Robinson: Do schools kill creativity?</td>\n",
       "      <td>[{'id': 865, 'hero': 'https://pe.tedcdn.com/im...</td>\n",
       "      <td>Author/educator</td>\n",
       "      <td>children creativity culture dance education pa...</td>\n",
       "      <td>Do schools kill creativity?</td>\n",
       "      <td>https://www.ted.com/talks/ken_robinson_says_sc...</td>\n",
       "      <td>[author, educator]</td>\n",
       "      <td>Good morning. How are you?(Laughter)It's been ...</td>\n",
       "      <td>good morning youlaughterits great hasnt ive bl...</td>\n",
       "    </tr>\n",
       "  </tbody>\n",
       "</table>\n",
       "</div>"
      ],
      "text/plain": [
       "                                         description    event   film_date  \\\n",
       "0  Richard Dawkins urges all atheists to openly s...  TED2002  1012608000   \n",
       "1  Sir Ken Robinson makes an entertaining and pro...  TED2006  1140825600   \n",
       "\n",
       "      main_speaker                                     name_x  \\\n",
       "0  Richard Dawkins          Richard Dawkins: Militant atheism   \n",
       "1     Ken Robinson  Ken Robinson: Do schools kill creativity?   \n",
       "\n",
       "                                       related_talks      speaker_occupation  \\\n",
       "0  [{'id': 86, 'hero': 'https://pe.tedcdn.com/ima...  Evolutionary biologist   \n",
       "1  [{'id': 865, 'hero': 'https://pe.tedcdn.com/im...         Author/educator   \n",
       "\n",
       "                                                tags  \\\n",
       "0               God atheism culture religion science   \n",
       "1  children creativity culture dance education pa...   \n",
       "\n",
       "                         title  \\\n",
       "0             Militant atheism   \n",
       "1  Do schools kill creativity?   \n",
       "\n",
       "                                                 url  \\\n",
       "0  https://www.ted.com/talks/richard_dawkins_on_m...   \n",
       "1  https://www.ted.com/talks/ken_robinson_says_sc...   \n",
       "\n",
       "                   split_occ  \\\n",
       "0  [evolutionary, biologist]   \n",
       "1         [author, educator]   \n",
       "\n",
       "                                          transcript  \\\n",
       "0  That splendid music, the coming-in music, \"The...   \n",
       "1  Good morning. How are you?(Laughter)It's been ...   \n",
       "\n",
       "                                        transcript_c  \n",
       "0  splendid music comingin music elephant march a...  \n",
       "1  good morning youlaughterits great hasnt ive bl...  "
      ]
     },
     "execution_count": 60,
     "metadata": {},
     "output_type": "execute_result"
    }
   ],
   "source": [
    "top_ts.head(2)"
   ]
  },
  {
   "cell_type": "markdown",
   "metadata": {},
   "source": [
    "#### By description "
   ]
  },
  {
   "cell_type": "code",
   "execution_count": 46,
   "metadata": {},
   "outputs": [
    {
     "name": "stdout",
     "output_type": "stream",
     "text": [
      "talk (37)\n",
      "world (17)\n",
      "even (16)\n",
      "says (15)\n",
      "makes (11)\n",
      "change (11)\n",
      "powerful (10)\n",
      "case (10)\n",
      "shares (10)\n",
      "life (9)\n"
     ]
    }
   ],
   "source": [
    "by_desc = get_top_words_col(\"description\")"
   ]
  },
  {
   "cell_type": "markdown",
   "metadata": {},
   "source": [
    "#### By tags "
   ]
  },
  {
   "cell_type": "code",
   "execution_count": 47,
   "metadata": {},
   "outputs": [
    {
     "name": "stdout",
     "output_type": "stream",
     "text": [
      "culture (45)\n",
      "global (31)\n",
      "issues (31)\n",
      "business (27)\n",
      "science (19)\n",
      "brain (19)\n",
      "psychology (17)\n",
      "health (17)\n",
      "technology (14)\n",
      "change (14)\n"
     ]
    }
   ],
   "source": [
    "by_tags = get_top_words_col(\"tags\")"
   ]
  },
  {
   "cell_type": "markdown",
   "metadata": {},
   "source": [
    "#### By title - not substantive"
   ]
  },
  {
   "cell_type": "code",
   "execution_count": 27,
   "metadata": {},
   "outputs": [],
   "source": [
    "import unicodedata\n",
    "def keep_chr(c):\n",
    "    return (unicodedata.category(c).startswith('P') and \\\n",
    "                (c != \"#\" and c != \"@\" and c != \"&\"))\n",
    "PUNCTUATION = \" \".join([chr(i) for i in range(sys.maxunicode) if keep_chr(chr(i))])"
   ]
  },
  {
   "cell_type": "code",
   "execution_count": 28,
   "metadata": {},
   "outputs": [],
   "source": [
    "def clean_text(title):\n",
    "    title = str(title).lower()\n",
    "    title = strip_punctuation(title)\n",
    "    title = title.split(\" \")\n",
    "    title = [x for x in title if x not in STOP_WORDS]\n",
    "    title = ' '.join([x for x in title if x not in PUNCTUATION])\n",
    "\n",
    "    return title"
   ]
  },
  {
   "cell_type": "code",
   "execution_count": 29,
   "metadata": {},
   "outputs": [],
   "source": [
    "top_ts['title_cleaned'] = top_ts.title.apply(clean_text,)"
   ]
  },
  {
   "cell_type": "code",
   "execution_count": 30,
   "metadata": {},
   "outputs": [
    {
     "name": "stdout",
     "output_type": "stream",
     "text": [
      "make (4)\n",
      "world (4)\n",
      "science (3)\n",
      "power (3)\n",
      "climate (3)\n",
      "wrong (3)\n",
      "teach (3)\n",
      "need (3)\n",
      "violence (3)\n",
      "women (3)\n"
     ]
    }
   ],
   "source": [
    "by_title = get_top_words_col(\"title_cleaned\")"
   ]
  },
  {
   "cell_type": "markdown",
   "metadata": {},
   "source": [
    "#### By transcript"
   ]
  },
  {
   "cell_type": "code",
   "execution_count": 51,
   "metadata": {},
   "outputs": [],
   "source": [
    "top_ts['transcript_c'] = top_ts.transcript.apply(clean_text,)"
   ]
  },
  {
   "cell_type": "code",
   "execution_count": 52,
   "metadata": {},
   "outputs": [
    {
     "name": "stdout",
     "output_type": "stream",
     "text": [
      "going (648)\n",
      "thats (590)\n",
      "said (587)\n",
      "really (516)\n",
      "world (504)\n",
      "will (465)\n",
      "years (461)\n",
      "time (454)\n",
      "make (409)\n",
      "things (407)\n"
     ]
    }
   ],
   "source": [
    "by_transcript= get_top_words_col(\"transcript_c\")"
   ]
  },
  {
   "cell_type": "code",
   "execution_count": 71,
   "metadata": {},
   "outputs": [],
   "source": [
    "problem_words = [ \"a\", \"about\", \"above\", \"tedx\", \"ted x\", \"after\", \"again\", \"nan\", \"against\", \"all\", \"am\", \"an\", \"and\", \"any\", \"are\", \"as\", \"at\", \"be\", \"because\", \"been\", \"before\", \"being\", \"below\", \"between\", \"both\", \"but\", \"by\", \"could\", \"did\", \"do\", \"does\", \"doing\", \"down\", \"during\", \"each\", \"few\", \"for\", \"from\", \"further\", \"had\", \"has\", \"have\", \"having\", \"he\", \"he'd\", \"he'll\", \"he's\", \"her\", \"here\", \"here's\", \"hers\", \"herself\", \"him\", \"himself\", \"his\", \"how\", \"how's\", \"i\", \"i'd\", \"i'll\", \"i'm\", \"i've\", \"if\", \"in\", \"into\", \"is\", \"im\", \"it\", \"it's\", \"its\", \"itself\", \"let's\", \"me\", \"more\", \"most\", \"my\", \"myself\", \"nor\", \"of\", \"on\", \"once\", \"only\", \"or\", \"other\", \"ought\", \"our\", \"ours\", \"ourselves\", \"out\", \"over\", \"own\", \"same\", \"she\", \"she'd\", \"she'll\", \"she's\", \"should\", \"so\", \"some\", \"such\", \"than\", \"that\", \"that's\", \"the\", \"their\", \"theirs\", \"them\", \"themselves\", \"then\", \"there\", \"there's\", \"these\", \"they\", \"they'd\", \"they'll\", \"they're\", \"they've\", \"this\", \"those\", \"through\", \"to\", \"too\", \"under\", \"until\", \"up\", \"very\", \"was\", \"we\", \"we'd\", \"we'll\", \"we're\", \"we've\", \"were\", \"what\", \"what's\", \"when\", \"when's\", \"where\", \"where's\", \"which\", \"while\", \"who\", \"who's\", \"whom\", \"why\", \"why's\", \"with\", \"would\", \"you\", \"you'd\", \"you'll\", \"you're\", \"you've\", \"your\", \"yours\", \"yourself\", \"yourselves\",\n",
    "                 \"new\", \"york\", \"say\", \"no\", \"thank\"]"
   ]
  },
  {
   "cell_type": "code",
   "execution_count": 55,
   "metadata": {},
   "outputs": [],
   "source": [
    "by_transcript = [w for w in by_transcript.split(' ') if w not in problem_words]"
   ]
  },
  {
   "cell_type": "code",
   "execution_count": 57,
   "metadata": {},
   "outputs": [],
   "source": [
    "ngrams = {}\n",
    "for i in range(len(by_transcript)-2):\n",
    "    ng = ' '.join(by_transcript[i:i+3])\n",
    "    if ng in ngrams.keys():\n",
    "        ngrams[ng] = ngrams[ng] + 1\n",
    "    else:\n",
    "        ngrams[ng] = 1"
   ]
  },
  {
   "cell_type": "code",
   "execution_count": 58,
   "metadata": {},
   "outputs": [
    {
     "name": "stdout",
     "output_type": "stream",
     "text": [
      "youre not going (9)\n",
      "10 years ago (8)\n",
      "every single day (8)\n",
      "people around world (7)\n",
      "amount dark energy (7)\n",
      "whats going happen (6)\n",
      "every single one (6)\n",
      "seven years old (6)\n",
      "shape extra dimensions (6)\n",
      "thats not going (5)\n"
     ]
    }
   ],
   "source": [
    "mc = sorted(ngrams, key = ngrams.get, reverse=True)[:10]\n",
    "for i, w in enumerate(mc):\n",
    "    print(\"{} ({})\".format(w, ngrams[w]))"
   ]
  },
  {
   "cell_type": "markdown",
   "metadata": {},
   "source": [
    "## Speaker Occupation and Popularity"
   ]
  },
  {
   "cell_type": "code",
   "execution_count": 37,
   "metadata": {},
   "outputs": [
    {
     "data": {
      "text/plain": [
       "Writer                 5\n",
       "Psychologist           5\n",
       "Social psychologist    3\n",
       "Journalist             3\n",
       "Novelist               2\n",
       "Name: speaker_occupation, dtype: int64"
      ]
     },
     "execution_count": 37,
     "metadata": {},
     "output_type": "execute_result"
    }
   ],
   "source": [
    "top_100.speaker_occupation.value_counts().head()"
   ]
  },
  {
   "cell_type": "markdown",
   "metadata": {},
   "source": [
    "The most common talks were given by speakers from a variety of professions. "
   ]
  },
  {
   "cell_type": "code",
   "execution_count": 38,
   "metadata": {},
   "outputs": [
    {
     "data": {
      "text/plain": [
       "[('psychologist', 12),\n",
       " ('writer', 8),\n",
       " ('author', 6),\n",
       " ('social', 5),\n",
       " ('activist', 5),\n",
       " ('educator', 4),\n",
       " ('philosopher', 4),\n",
       " ('researcher', 4),\n",
       " ('designer', 4),\n",
       " ('expert', 3)]"
      ]
     },
     "execution_count": 38,
     "metadata": {},
     "output_type": "execute_result"
    }
   ],
   "source": [
    "occs = []\n",
    "for i,r in top_100.iterrows():\n",
    "    occs.extend(r.split_occ)\n",
    "filler = ['and', 'or','of', 'the', '']\n",
    "occs = [x for x in occs if x not in filler]\n",
    "\n",
    "counter = collections.Counter(occs)\n",
    "counter.most_common(10)"
   ]
  },
  {
   "cell_type": "markdown",
   "metadata": {},
   "source": [
    "While the list of most common professions overall included more scientists, the popular talks were given by people in more qualitative fields. "
   ]
  },
  {
   "cell_type": "code",
   "execution_count": 39,
   "metadata": {},
   "outputs": [
    {
     "data": {
      "text/plain": [
       "[('psychologist', 12),\n",
       " ('author', 6),\n",
       " ('social', 5),\n",
       " ('educator', 4),\n",
       " ('philosopher', 4),\n",
       " ('researcher', 4),\n",
       " ('designer', 4),\n",
       " ('expert', 3),\n",
       " ('research', 3),\n",
       " ('journalist', 3)]"
      ]
     },
     "execution_count": 39,
     "metadata": {},
     "output_type": "execute_result"
    }
   ],
   "source": [
    "occs = []\n",
    "for i,r in top_100.iterrows():\n",
    "    occs.extend(r.split_occ)\n",
    "filler = ['and', 'or','of', 'the', '', 'writer', 'activist']\n",
    "occs = [x for x in occs if x not in filler]\n",
    "\n",
    "counter = collections.Counter(occs)\n",
    "counter.most_common(10)"
   ]
  },
  {
   "cell_type": "markdown",
   "metadata": {},
   "source": [
    "Removing the ubiquitous \"writer\" and \"activist\" only makes that more apparent. "
   ]
  },
  {
   "cell_type": "code",
   "execution_count": 40,
   "metadata": {},
   "outputs": [
    {
     "data": {
      "text/html": [
       "<div>\n",
       "<style scoped>\n",
       "    .dataframe tbody tr th:only-of-type {\n",
       "        vertical-align: middle;\n",
       "    }\n",
       "\n",
       "    .dataframe tbody tr th {\n",
       "        vertical-align: top;\n",
       "    }\n",
       "\n",
       "    .dataframe thead th {\n",
       "        text-align: right;\n",
       "    }\n",
       "</style>\n",
       "<table border=\"1\" class=\"dataframe\">\n",
       "  <thead>\n",
       "    <tr style=\"text-align: right;\">\n",
       "      <th></th>\n",
       "      <th></th>\n",
       "      <th>0</th>\n",
       "    </tr>\n",
       "    <tr>\n",
       "      <th>main_speaker</th>\n",
       "      <th>speaker_occupation</th>\n",
       "      <th></th>\n",
       "    </tr>\n",
       "  </thead>\n",
       "  <tbody>\n",
       "    <tr>\n",
       "      <th>Al Gore</th>\n",
       "      <th>Climate advocate</th>\n",
       "      <td>2</td>\n",
       "    </tr>\n",
       "    <tr>\n",
       "      <th>Ken Robinson</th>\n",
       "      <th>Author/educator</th>\n",
       "      <td>2</td>\n",
       "    </tr>\n",
       "    <tr>\n",
       "      <th>Brené Brown</th>\n",
       "      <th>Vulnerability researcher</th>\n",
       "      <td>2</td>\n",
       "    </tr>\n",
       "    <tr>\n",
       "      <th>Aaron Huey</th>\n",
       "      <th>Photographer</th>\n",
       "      <td>1</td>\n",
       "    </tr>\n",
       "    <tr>\n",
       "      <th>Melinda Gates</th>\n",
       "      <th>Philanthropist</th>\n",
       "      <td>1</td>\n",
       "    </tr>\n",
       "  </tbody>\n",
       "</table>\n",
       "</div>"
      ],
      "text/plain": [
       "                                        0\n",
       "main_speaker  speaker_occupation         \n",
       "Al Gore       Climate advocate          2\n",
       "Ken Robinson  Author/educator           2\n",
       "Brené Brown   Vulnerability researcher  2\n",
       "Aaron Huey    Photographer              1\n",
       "Melinda Gates Philanthropist            1"
      ]
     },
     "execution_count": 40,
     "metadata": {},
     "output_type": "execute_result"
    }
   ],
   "source": [
    "top_100.groupby(['main_speaker', 'speaker_occupation']).size().to_frame().sort_values(by=[0], ascending=False).head()"
   ]
  },
  {
   "cell_type": "markdown",
   "metadata": {},
   "source": [
    "Three people had two spots in the top 100 - former Vice President Al Gore, educator Ken Robinson, and scientist Brene Brown. "
   ]
  },
  {
   "cell_type": "markdown",
   "metadata": {},
   "source": [
    "A speakers occupation does not seem to automatically determine whether their talk would be popular. For example, there are numerous authors and activists who give talks of varying levels of popularity. However while scientists give many talks, they don't appear in the 100 most popular talks. \n",
    "\n",
    "The popularity of a talk likely depends on more factors in addition to the topic, such as how popular the speaker is, the quality of the presentation, timing in relation to current events, and marketing. "
   ]
  },
  {
   "cell_type": "code",
   "execution_count": 69,
   "metadata": {},
   "outputs": [
    {
     "data": {
      "text/plain": [
       "[('designer', 109),\n",
       " ('artist', 101),\n",
       " ('entrepreneur', 99),\n",
       " ('author', 87),\n",
       " ('scientist', 86),\n",
       " ('researcher', 78),\n",
       " ('expert', 75),\n",
       " ('journalist', 63),\n",
       " ('educator', 56),\n",
       " ('social', 54)]"
      ]
     },
     "execution_count": 69,
     "metadata": {},
     "output_type": "execute_result"
    }
   ],
   "source": [
    "others = m.tail(2450)\n",
    "\n",
    "occs = []\n",
    "for i,r in others.iterrows():\n",
    "    occs.extend(r.split_occ)\n",
    "filler = ['and', 'or','of', 'the', '', 'writer', 'activist']\n",
    "\n",
    "occs = [x for x in occs if x not in filler]\n",
    "\n",
    "counter = collections.Counter(occs)\n",
    "counter.most_common(10)"
   ]
  }
 ],
 "metadata": {
  "kernelspec": {
   "display_name": "Python 3",
   "language": "python",
   "name": "python3"
  },
  "language_info": {
   "codemirror_mode": {
    "name": "ipython",
    "version": 3
   },
   "file_extension": ".py",
   "mimetype": "text/x-python",
   "name": "python",
   "nbconvert_exporter": "python",
   "pygments_lexer": "ipython3",
   "version": "3.7.1"
  }
 },
 "nbformat": 4,
 "nbformat_minor": 2
}
