{
 "cells": [
  {
   "cell_type": "code",
   "execution_count": 1,
   "metadata": {},
   "outputs": [],
   "source": [
    "import pandas as pd\n",
    "from util import *"
   ]
  },
  {
   "cell_type": "markdown",
   "metadata": {},
   "source": [
    "https://www.kaggle.com/vikasg/russian-troll-tweets/data\n",
    "https://developer.twitter.com/en/docs/tweets/data-dictionary/overview/user-object"
   ]
  },
  {
   "cell_type": "code",
   "execution_count": 2,
   "metadata": {},
   "outputs": [],
   "source": [
    "tweets = pd.read_csv('tweets.csv')\n",
    "users = pd.read_csv('users.csv')"
   ]
  },
  {
   "cell_type": "code",
   "execution_count": 3,
   "metadata": {},
   "outputs": [],
   "source": [
    "tweets = tweets.rename(index=str, columns={\"user_id\": \"id\"})\n",
    "tc, uc = set(tweets.columns), set(users.columns)\n",
    "cc = tc.intersection(uc)\n",
    "combined = pd.merge(tweets, users, how='left', on='id')"
   ]
  },
  {
   "cell_type": "code",
   "execution_count": 4,
   "metadata": {},
   "outputs": [
    {
     "data": {
      "text/plain": [
       "(687382, 29)"
      ]
     },
     "execution_count": 4,
     "metadata": {},
     "output_type": "execute_result"
    }
   ],
   "source": [
    "combined.shape"
   ]
  },
  {
   "cell_type": "code",
   "execution_count": 5,
   "metadata": {},
   "outputs": [
    {
     "data": {
      "text/plain": [
       "('tweets', (203482, 16), 'users', (454, 14))"
      ]
     },
     "execution_count": 5,
     "metadata": {},
     "output_type": "execute_result"
    }
   ],
   "source": [
    "\"tweets\", tweets.shape, \"users\", users.shape"
   ]
  },
  {
   "cell_type": "code",
   "execution_count": null,
   "metadata": {},
   "outputs": [],
   "source": [
    "t10, u10 = tweets.head(10), users.head(10)\n",
    "c10 = pd.merge(t10, u10, how='inner', on='id')\n",
    "c10.style"
   ]
  },
  {
   "cell_type": "code",
   "execution_count": null,
   "metadata": {},
   "outputs": [],
   "source": [
    "users.head()"
   ]
  },
  {
   "cell_type": "code",
   "execution_count": null,
   "metadata": {},
   "outputs": [],
   "source": [
    "tweets.head()"
   ]
  },
  {
   "cell_type": "code",
   "execution_count": null,
   "metadata": {},
   "outputs": [],
   "source": [
    "ht = find_top(tweets, \"hashtags\", sort_by='id', ascending=False)\n",
    "ht = ht[['id']]\n",
    "ht.columns = ['num_tweets']\n",
    "ht = ht[ht.num_tweets > 100]\n",
    "ht = ht[ht.index != '[]']"
   ]
  },
  {
   "cell_type": "code",
   "execution_count": null,
   "metadata": {},
   "outputs": [],
   "source": [
    "ht3 = ht.head(3)\n",
    "plot_bar_chart(ht3.index, ht3.num_tweets, 'hashtag', 'num_tweets', 'most popular hashtags', width = 0.35, color = 'purple')"
   ]
  },
  {
   "cell_type": "code",
   "execution_count": null,
   "metadata": {},
   "outputs": [],
   "source": [
    "top_users = find_top(combined, \"id\", sort_by='user_key')\n",
    "#top_users = top_users[['location', 'name', 'followers_count',\n",
    "#       'statuses_count', 'time_zone', 'verified', 'lang', 'screen_name',\n",
    "#       'description', 'favourites_count', 'friends_count', 'listed_count']]"
   ]
  },
  {
   "cell_type": "code",
   "execution_count": null,
   "metadata": {},
   "outputs": [],
   "source": []
  }
 ],
 "metadata": {
  "kernelspec": {
   "display_name": "Python 3",
   "language": "python",
   "name": "python3"
  },
  "language_info": {
   "codemirror_mode": {
    "name": "ipython",
    "version": 3
   },
   "file_extension": ".py",
   "mimetype": "text/x-python",
   "name": "python",
   "nbconvert_exporter": "python",
   "pygments_lexer": "ipython3",
   "version": "3.6.4"
  }
 },
 "nbformat": 4,
 "nbformat_minor": 2
}
